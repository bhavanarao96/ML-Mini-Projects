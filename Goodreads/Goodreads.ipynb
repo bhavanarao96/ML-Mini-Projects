{
 "cells": [
  {
   "cell_type": "markdown",
   "metadata": {},
   "source": [
    "# Scraping contents from Goodreads shelf"
   ]
  },
  {
   "cell_type": "markdown",
   "metadata": {},
   "source": [
    "Import requests and Beautiful soup for Web Scraping"
   ]
  },
  {
   "cell_type": "code",
   "execution_count": 61,
   "metadata": {},
   "outputs": [],
   "source": [
    "import requests\n",
    "from bs4 import BeautifulSoup as bs\n",
    "import pandas as pd\n",
    "import csv"
   ]
  },
  {
   "cell_type": "markdown",
   "metadata": {},
   "source": [
    "## Fetch the page and create BeautifulSoup object"
   ]
  },
  {
   "cell_type": "code",
   "execution_count": 114,
   "metadata": {},
   "outputs": [
    {
     "name": "stdout",
     "output_type": "stream",
     "text": [
      "200\n"
     ]
    }
   ],
   "source": [
    "goodreads_link = 'https://www.goodreads.com'\n",
    "shelf_link = '/shelf/show/fiction'\n",
    "\n",
    "url = goodreads_link + shelf_link \n",
    "\n",
    "page = requests.get(url)\n",
    "soup = bs(page.content, 'html.parser')\n",
    "\n",
    "#print(soup.prettify())\n",
    "print(page.status_code)"
   ]
  },
  {
   "cell_type": "markdown",
   "metadata": {},
   "source": [
    "## Exploring different parts of the webpage - "
   ]
  },
  {
   "cell_type": "markdown",
   "metadata": {},
   "source": [
    "soup.---- : gives the whole tag. (i.e. with the < title>...< /title> etc. )\n",
    "To get only text, use soup.--.text"
   ]
  },
  {
   "cell_type": "code",
   "execution_count": null,
   "metadata": {},
   "outputs": [],
   "source": [
    "book_name = soup.find('a', class_ = 'bookTitle').text \n",
    "book_author = soup.find('a', class_ = 'authorName').text \n",
    "smalltext = soup.find('span', class_ = 'greyText smallText').text"
   ]
  },
  {
   "cell_type": "code",
   "execution_count": 59,
   "metadata": {},
   "outputs": [
    {
     "name": "stdout",
     "output_type": "stream",
     "text": [
      "Title of the page:  Fiction Books\n",
      "First book in the shelf: \n",
      "Title:  To Kill a Mockingbird (Paperback)\n",
      "Author:  Harper Lee\n",
      "Text:  \n",
      "                avg rating 4.28 —\n",
      "                4,316,719 ratings  —\n",
      "                published 1960\n",
      "              \n"
     ]
    }
   ],
   "source": [
    "print('Title of the page: ', soup.title.text)\n",
    "print('First book in the shelf: ')\n",
    "print('Title: ', book_name)\n",
    "print('Author: ', book_author)\n",
    "print('Text: ', smalltext)"
   ]
  },
  {
   "cell_type": "markdown",
   "metadata": {},
   "source": [
    "## Extracting Book properties and storing it into a .csv file"
   ]
  },
  {
   "cell_type": "markdown",
   "metadata": {},
   "source": [
    "Writing the book properties from page one to a csv file"
   ]
  },
  {
   "cell_type": "code",
   "execution_count": 108,
   "metadata": {
    "scrolled": true
   },
   "outputs": [],
   "source": [
    "csv_file = open('goodreads_extract.csv', 'w', encoding='utf-8')\n",
    "\n",
    "csv_writer = csv.writer(csv_file)\n",
    "csv_writer.writerow(['Title', 'Author', 'Average Rating', 'Published Year', 'URL'])\n",
    "   \n",
    "titles = soup.find_all('a', class_='bookTitle')\n",
    "authors = soup.find_all('a', class_='authorName')\n",
    "smallTexts = soup.find_all('span', class_ = 'greyText smallText')\n",
    "    \n",
    "for title, author, smallText in zip(titles, authors, smallTexts):\n",
    "    smalltext_split = (smallText.text).split()\n",
    "    avg_rating = smalltext_split[2]\n",
    "    published = smalltext_split[-1]\n",
    "    book_url = goodreads_link + title['href']\n",
    "        \n",
    "    csv_writer.writerow([title.get_text(), author.get_text(), avg_rating, published, book_url])\n",
    "    \n",
    "csv_file.close()"
   ]
  },
  {
   "cell_type": "code",
   "execution_count": 111,
   "metadata": {},
   "outputs": [
    {
     "name": "stdout",
     "output_type": "stream",
     "text": [
      "<class 'pandas.core.frame.DataFrame'>\n",
      "RangeIndex: 50 entries, 0 to 49\n",
      "Data columns (total 5 columns):\n",
      " #   Column          Non-Null Count  Dtype  \n",
      "---  ------          --------------  -----  \n",
      " 0   Title           50 non-null     object \n",
      " 1   Author          50 non-null     object \n",
      " 2   Average Rating  50 non-null     float64\n",
      " 3   Published Year  50 non-null     int64  \n",
      " 4   URL             50 non-null     object \n",
      "dtypes: float64(1), int64(1), object(3)\n",
      "memory usage: 2.1+ KB\n"
     ]
    }
   ],
   "source": [
    "book_prop = pd.read_csv('goodreads_extract.csv')\n",
    "book_prop.info()"
   ]
  },
  {
   "cell_type": "code",
   "execution_count": 112,
   "metadata": {},
   "outputs": [
    {
     "data": {
      "text/html": [
       "<div>\n",
       "<style scoped>\n",
       "    .dataframe tbody tr th:only-of-type {\n",
       "        vertical-align: middle;\n",
       "    }\n",
       "\n",
       "    .dataframe tbody tr th {\n",
       "        vertical-align: top;\n",
       "    }\n",
       "\n",
       "    .dataframe thead th {\n",
       "        text-align: right;\n",
       "    }\n",
       "</style>\n",
       "<table border=\"1\" class=\"dataframe\">\n",
       "  <thead>\n",
       "    <tr style=\"text-align: right;\">\n",
       "      <th></th>\n",
       "      <th>Title</th>\n",
       "      <th>Author</th>\n",
       "      <th>Average Rating</th>\n",
       "      <th>Published Year</th>\n",
       "      <th>URL</th>\n",
       "    </tr>\n",
       "  </thead>\n",
       "  <tbody>\n",
       "    <tr>\n",
       "      <th>0</th>\n",
       "      <td>To Kill a Mockingbird (Paperback)</td>\n",
       "      <td>Harper Lee</td>\n",
       "      <td>4.28</td>\n",
       "      <td>1960</td>\n",
       "      <td>https://www.goodreads.com/book/show/2657.To_Ki...</td>\n",
       "    </tr>\n",
       "    <tr>\n",
       "      <th>1</th>\n",
       "      <td>1984 (Kindle Edition)</td>\n",
       "      <td>George Orwell</td>\n",
       "      <td>4.18</td>\n",
       "      <td>1949</td>\n",
       "      <td>https://www.goodreads.com/book/show/40961427-1984</td>\n",
       "    </tr>\n",
       "    <tr>\n",
       "      <th>2</th>\n",
       "      <td>The Great Gatsby (Paperback)</td>\n",
       "      <td>F. Scott Fitzgerald</td>\n",
       "      <td>3.92</td>\n",
       "      <td>1925</td>\n",
       "      <td>https://www.goodreads.com/book/show/4671.The_G...</td>\n",
       "    </tr>\n",
       "    <tr>\n",
       "      <th>3</th>\n",
       "      <td>Harry Potter and the Sorcerer's Stone (Harry P...</td>\n",
       "      <td>J.K. Rowling</td>\n",
       "      <td>4.47</td>\n",
       "      <td>1997</td>\n",
       "      <td>https://www.goodreads.com/book/show/3.Harry_Po...</td>\n",
       "    </tr>\n",
       "    <tr>\n",
       "      <th>4</th>\n",
       "      <td>Animal Farm (Mass Market Paperback)</td>\n",
       "      <td>George Orwell</td>\n",
       "      <td>3.94</td>\n",
       "      <td>1945</td>\n",
       "      <td>https://www.goodreads.com/book/show/170448.Ani...</td>\n",
       "    </tr>\n",
       "  </tbody>\n",
       "</table>\n",
       "</div>"
      ],
      "text/plain": [
       "                                               Title               Author  \\\n",
       "0                  To Kill a Mockingbird (Paperback)           Harper Lee   \n",
       "1                              1984 (Kindle Edition)        George Orwell   \n",
       "2                       The Great Gatsby (Paperback)  F. Scott Fitzgerald   \n",
       "3  Harry Potter and the Sorcerer's Stone (Harry P...         J.K. Rowling   \n",
       "4                Animal Farm (Mass Market Paperback)        George Orwell   \n",
       "\n",
       "   Average Rating  Published Year  \\\n",
       "0            4.28            1960   \n",
       "1            4.18            1949   \n",
       "2            3.92            1925   \n",
       "3            4.47            1997   \n",
       "4            3.94            1945   \n",
       "\n",
       "                                                 URL  \n",
       "0  https://www.goodreads.com/book/show/2657.To_Ki...  \n",
       "1  https://www.goodreads.com/book/show/40961427-1984  \n",
       "2  https://www.goodreads.com/book/show/4671.The_G...  \n",
       "3  https://www.goodreads.com/book/show/3.Harry_Po...  \n",
       "4  https://www.goodreads.com/book/show/170448.Ani...  "
      ]
     },
     "execution_count": 112,
     "metadata": {},
     "output_type": "execute_result"
    }
   ],
   "source": [
    "book_prop.head()"
   ]
  }
 ],
 "metadata": {
  "kernelspec": {
   "display_name": "Python 3",
   "language": "python",
   "name": "python3"
  },
  "language_info": {
   "codemirror_mode": {
    "name": "ipython",
    "version": 3
   },
   "file_extension": ".py",
   "mimetype": "text/x-python",
   "name": "python",
   "nbconvert_exporter": "python",
   "pygments_lexer": "ipython3",
   "version": "3.7.6"
  }
 },
 "nbformat": 4,
 "nbformat_minor": 4
}

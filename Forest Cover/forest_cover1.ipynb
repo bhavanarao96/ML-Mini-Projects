{
 "cells": [
  {
   "cell_type": "markdown",
   "metadata": {},
   "source": [
    "## Libraries"
   ]
  },
  {
   "cell_type": "code",
   "execution_count": 72,
   "metadata": {},
   "outputs": [],
   "source": [
    "import numpy as np\n",
    "import pandas as pd\n",
    "import scipy\n",
    "import matplotlib.pyplot as plt\n",
    "import seaborn as sns\n",
    "sns.set()\n",
    "\n",
    "from sklearn.preprocessing import StandardScaler, OneHotEncoder\n",
    "from sklearn.model_selection import train_test_split, cross_val_score\n",
    "from sklearn import metrics"
   ]
  },
  {
   "cell_type": "markdown",
   "metadata": {},
   "source": [
    "## Import Data"
   ]
  },
  {
   "cell_type": "code",
   "execution_count": 83,
   "metadata": {},
   "outputs": [],
   "source": [
    "df_forest = pd.read_csv(\"train.csv\")"
   ]
  },
  {
   "cell_type": "markdown",
   "metadata": {},
   "source": [
    "## Explore Data"
   ]
  },
  {
   "cell_type": "code",
   "execution_count": 3,
   "metadata": {},
   "outputs": [
    {
     "data": {
      "text/html": [
       "<div>\n",
       "<style scoped>\n",
       "    .dataframe tbody tr th:only-of-type {\n",
       "        vertical-align: middle;\n",
       "    }\n",
       "\n",
       "    .dataframe tbody tr th {\n",
       "        vertical-align: top;\n",
       "    }\n",
       "\n",
       "    .dataframe thead th {\n",
       "        text-align: right;\n",
       "    }\n",
       "</style>\n",
       "<table border=\"1\" class=\"dataframe\">\n",
       "  <thead>\n",
       "    <tr style=\"text-align: right;\">\n",
       "      <th></th>\n",
       "      <th>Id</th>\n",
       "      <th>Elevation</th>\n",
       "      <th>Aspect</th>\n",
       "      <th>Slope</th>\n",
       "      <th>Horizontal_Distance_To_Hydrology</th>\n",
       "      <th>Vertical_Distance_To_Hydrology</th>\n",
       "      <th>Horizontal_Distance_To_Roadways</th>\n",
       "      <th>Hillshade_9am</th>\n",
       "      <th>Hillshade_Noon</th>\n",
       "      <th>Hillshade_3pm</th>\n",
       "      <th>...</th>\n",
       "      <th>Soil_Type32</th>\n",
       "      <th>Soil_Type33</th>\n",
       "      <th>Soil_Type34</th>\n",
       "      <th>Soil_Type35</th>\n",
       "      <th>Soil_Type36</th>\n",
       "      <th>Soil_Type37</th>\n",
       "      <th>Soil_Type38</th>\n",
       "      <th>Soil_Type39</th>\n",
       "      <th>Soil_Type40</th>\n",
       "      <th>Cover_Type</th>\n",
       "    </tr>\n",
       "  </thead>\n",
       "  <tbody>\n",
       "    <tr>\n",
       "      <th>0</th>\n",
       "      <td>1</td>\n",
       "      <td>2596</td>\n",
       "      <td>51</td>\n",
       "      <td>3</td>\n",
       "      <td>258</td>\n",
       "      <td>0</td>\n",
       "      <td>510</td>\n",
       "      <td>221</td>\n",
       "      <td>232</td>\n",
       "      <td>148</td>\n",
       "      <td>...</td>\n",
       "      <td>0</td>\n",
       "      <td>0</td>\n",
       "      <td>0</td>\n",
       "      <td>0</td>\n",
       "      <td>0</td>\n",
       "      <td>0</td>\n",
       "      <td>0</td>\n",
       "      <td>0</td>\n",
       "      <td>0</td>\n",
       "      <td>5</td>\n",
       "    </tr>\n",
       "    <tr>\n",
       "      <th>1</th>\n",
       "      <td>2</td>\n",
       "      <td>2590</td>\n",
       "      <td>56</td>\n",
       "      <td>2</td>\n",
       "      <td>212</td>\n",
       "      <td>-6</td>\n",
       "      <td>390</td>\n",
       "      <td>220</td>\n",
       "      <td>235</td>\n",
       "      <td>151</td>\n",
       "      <td>...</td>\n",
       "      <td>0</td>\n",
       "      <td>0</td>\n",
       "      <td>0</td>\n",
       "      <td>0</td>\n",
       "      <td>0</td>\n",
       "      <td>0</td>\n",
       "      <td>0</td>\n",
       "      <td>0</td>\n",
       "      <td>0</td>\n",
       "      <td>5</td>\n",
       "    </tr>\n",
       "    <tr>\n",
       "      <th>2</th>\n",
       "      <td>3</td>\n",
       "      <td>2804</td>\n",
       "      <td>139</td>\n",
       "      <td>9</td>\n",
       "      <td>268</td>\n",
       "      <td>65</td>\n",
       "      <td>3180</td>\n",
       "      <td>234</td>\n",
       "      <td>238</td>\n",
       "      <td>135</td>\n",
       "      <td>...</td>\n",
       "      <td>0</td>\n",
       "      <td>0</td>\n",
       "      <td>0</td>\n",
       "      <td>0</td>\n",
       "      <td>0</td>\n",
       "      <td>0</td>\n",
       "      <td>0</td>\n",
       "      <td>0</td>\n",
       "      <td>0</td>\n",
       "      <td>2</td>\n",
       "    </tr>\n",
       "    <tr>\n",
       "      <th>3</th>\n",
       "      <td>4</td>\n",
       "      <td>2785</td>\n",
       "      <td>155</td>\n",
       "      <td>18</td>\n",
       "      <td>242</td>\n",
       "      <td>118</td>\n",
       "      <td>3090</td>\n",
       "      <td>238</td>\n",
       "      <td>238</td>\n",
       "      <td>122</td>\n",
       "      <td>...</td>\n",
       "      <td>0</td>\n",
       "      <td>0</td>\n",
       "      <td>0</td>\n",
       "      <td>0</td>\n",
       "      <td>0</td>\n",
       "      <td>0</td>\n",
       "      <td>0</td>\n",
       "      <td>0</td>\n",
       "      <td>0</td>\n",
       "      <td>2</td>\n",
       "    </tr>\n",
       "    <tr>\n",
       "      <th>4</th>\n",
       "      <td>5</td>\n",
       "      <td>2595</td>\n",
       "      <td>45</td>\n",
       "      <td>2</td>\n",
       "      <td>153</td>\n",
       "      <td>-1</td>\n",
       "      <td>391</td>\n",
       "      <td>220</td>\n",
       "      <td>234</td>\n",
       "      <td>150</td>\n",
       "      <td>...</td>\n",
       "      <td>0</td>\n",
       "      <td>0</td>\n",
       "      <td>0</td>\n",
       "      <td>0</td>\n",
       "      <td>0</td>\n",
       "      <td>0</td>\n",
       "      <td>0</td>\n",
       "      <td>0</td>\n",
       "      <td>0</td>\n",
       "      <td>5</td>\n",
       "    </tr>\n",
       "  </tbody>\n",
       "</table>\n",
       "<p>5 rows × 56 columns</p>\n",
       "</div>"
      ],
      "text/plain": [
       "   Id  Elevation  Aspect  Slope  Horizontal_Distance_To_Hydrology  \\\n",
       "0   1       2596      51      3                               258   \n",
       "1   2       2590      56      2                               212   \n",
       "2   3       2804     139      9                               268   \n",
       "3   4       2785     155     18                               242   \n",
       "4   5       2595      45      2                               153   \n",
       "\n",
       "   Vertical_Distance_To_Hydrology  Horizontal_Distance_To_Roadways  \\\n",
       "0                               0                              510   \n",
       "1                              -6                              390   \n",
       "2                              65                             3180   \n",
       "3                             118                             3090   \n",
       "4                              -1                              391   \n",
       "\n",
       "   Hillshade_9am  Hillshade_Noon  Hillshade_3pm  ...  Soil_Type32  \\\n",
       "0            221             232            148  ...            0   \n",
       "1            220             235            151  ...            0   \n",
       "2            234             238            135  ...            0   \n",
       "3            238             238            122  ...            0   \n",
       "4            220             234            150  ...            0   \n",
       "\n",
       "   Soil_Type33  Soil_Type34  Soil_Type35  Soil_Type36  Soil_Type37  \\\n",
       "0            0            0            0            0            0   \n",
       "1            0            0            0            0            0   \n",
       "2            0            0            0            0            0   \n",
       "3            0            0            0            0            0   \n",
       "4            0            0            0            0            0   \n",
       "\n",
       "   Soil_Type38  Soil_Type39  Soil_Type40  Cover_Type  \n",
       "0            0            0            0           5  \n",
       "1            0            0            0           5  \n",
       "2            0            0            0           2  \n",
       "3            0            0            0           2  \n",
       "4            0            0            0           5  \n",
       "\n",
       "[5 rows x 56 columns]"
      ]
     },
     "execution_count": 3,
     "metadata": {},
     "output_type": "execute_result"
    }
   ],
   "source": [
    "df_forest.head()"
   ]
  },
  {
   "cell_type": "code",
   "execution_count": 4,
   "metadata": {},
   "outputs": [
    {
     "data": {
      "text/html": [
       "<div>\n",
       "<style scoped>\n",
       "    .dataframe tbody tr th:only-of-type {\n",
       "        vertical-align: middle;\n",
       "    }\n",
       "\n",
       "    .dataframe tbody tr th {\n",
       "        vertical-align: top;\n",
       "    }\n",
       "\n",
       "    .dataframe thead th {\n",
       "        text-align: right;\n",
       "    }\n",
       "</style>\n",
       "<table border=\"1\" class=\"dataframe\">\n",
       "  <thead>\n",
       "    <tr style=\"text-align: right;\">\n",
       "      <th></th>\n",
       "      <th>Id</th>\n",
       "      <th>Elevation</th>\n",
       "      <th>Aspect</th>\n",
       "      <th>Slope</th>\n",
       "      <th>Horizontal_Distance_To_Hydrology</th>\n",
       "      <th>Vertical_Distance_To_Hydrology</th>\n",
       "      <th>Horizontal_Distance_To_Roadways</th>\n",
       "      <th>Hillshade_9am</th>\n",
       "      <th>Hillshade_Noon</th>\n",
       "      <th>Hillshade_3pm</th>\n",
       "      <th>...</th>\n",
       "      <th>Soil_Type32</th>\n",
       "      <th>Soil_Type33</th>\n",
       "      <th>Soil_Type34</th>\n",
       "      <th>Soil_Type35</th>\n",
       "      <th>Soil_Type36</th>\n",
       "      <th>Soil_Type37</th>\n",
       "      <th>Soil_Type38</th>\n",
       "      <th>Soil_Type39</th>\n",
       "      <th>Soil_Type40</th>\n",
       "      <th>Cover_Type</th>\n",
       "    </tr>\n",
       "  </thead>\n",
       "  <tbody>\n",
       "    <tr>\n",
       "      <th>count</th>\n",
       "      <td>15120.00000</td>\n",
       "      <td>15120.000000</td>\n",
       "      <td>15120.000000</td>\n",
       "      <td>15120.000000</td>\n",
       "      <td>15120.000000</td>\n",
       "      <td>15120.000000</td>\n",
       "      <td>15120.000000</td>\n",
       "      <td>15120.000000</td>\n",
       "      <td>15120.000000</td>\n",
       "      <td>15120.000000</td>\n",
       "      <td>...</td>\n",
       "      <td>15120.000000</td>\n",
       "      <td>15120.000000</td>\n",
       "      <td>15120.000000</td>\n",
       "      <td>15120.000000</td>\n",
       "      <td>15120.000000</td>\n",
       "      <td>15120.000000</td>\n",
       "      <td>15120.000000</td>\n",
       "      <td>15120.000000</td>\n",
       "      <td>15120.000000</td>\n",
       "      <td>15120.000000</td>\n",
       "    </tr>\n",
       "    <tr>\n",
       "      <th>mean</th>\n",
       "      <td>7560.50000</td>\n",
       "      <td>2749.322553</td>\n",
       "      <td>156.676653</td>\n",
       "      <td>16.501587</td>\n",
       "      <td>227.195701</td>\n",
       "      <td>51.076521</td>\n",
       "      <td>1714.023214</td>\n",
       "      <td>212.704299</td>\n",
       "      <td>218.965608</td>\n",
       "      <td>135.091997</td>\n",
       "      <td>...</td>\n",
       "      <td>0.045635</td>\n",
       "      <td>0.040741</td>\n",
       "      <td>0.001455</td>\n",
       "      <td>0.006746</td>\n",
       "      <td>0.000661</td>\n",
       "      <td>0.002249</td>\n",
       "      <td>0.048148</td>\n",
       "      <td>0.043452</td>\n",
       "      <td>0.030357</td>\n",
       "      <td>4.000000</td>\n",
       "    </tr>\n",
       "    <tr>\n",
       "      <th>std</th>\n",
       "      <td>4364.91237</td>\n",
       "      <td>417.678187</td>\n",
       "      <td>110.085801</td>\n",
       "      <td>8.453927</td>\n",
       "      <td>210.075296</td>\n",
       "      <td>61.239406</td>\n",
       "      <td>1325.066358</td>\n",
       "      <td>30.561287</td>\n",
       "      <td>22.801966</td>\n",
       "      <td>45.895189</td>\n",
       "      <td>...</td>\n",
       "      <td>0.208699</td>\n",
       "      <td>0.197696</td>\n",
       "      <td>0.038118</td>\n",
       "      <td>0.081859</td>\n",
       "      <td>0.025710</td>\n",
       "      <td>0.047368</td>\n",
       "      <td>0.214086</td>\n",
       "      <td>0.203880</td>\n",
       "      <td>0.171574</td>\n",
       "      <td>2.000066</td>\n",
       "    </tr>\n",
       "    <tr>\n",
       "      <th>min</th>\n",
       "      <td>1.00000</td>\n",
       "      <td>1863.000000</td>\n",
       "      <td>0.000000</td>\n",
       "      <td>0.000000</td>\n",
       "      <td>0.000000</td>\n",
       "      <td>-146.000000</td>\n",
       "      <td>0.000000</td>\n",
       "      <td>0.000000</td>\n",
       "      <td>99.000000</td>\n",
       "      <td>0.000000</td>\n",
       "      <td>...</td>\n",
       "      <td>0.000000</td>\n",
       "      <td>0.000000</td>\n",
       "      <td>0.000000</td>\n",
       "      <td>0.000000</td>\n",
       "      <td>0.000000</td>\n",
       "      <td>0.000000</td>\n",
       "      <td>0.000000</td>\n",
       "      <td>0.000000</td>\n",
       "      <td>0.000000</td>\n",
       "      <td>1.000000</td>\n",
       "    </tr>\n",
       "    <tr>\n",
       "      <th>25%</th>\n",
       "      <td>3780.75000</td>\n",
       "      <td>2376.000000</td>\n",
       "      <td>65.000000</td>\n",
       "      <td>10.000000</td>\n",
       "      <td>67.000000</td>\n",
       "      <td>5.000000</td>\n",
       "      <td>764.000000</td>\n",
       "      <td>196.000000</td>\n",
       "      <td>207.000000</td>\n",
       "      <td>106.000000</td>\n",
       "      <td>...</td>\n",
       "      <td>0.000000</td>\n",
       "      <td>0.000000</td>\n",
       "      <td>0.000000</td>\n",
       "      <td>0.000000</td>\n",
       "      <td>0.000000</td>\n",
       "      <td>0.000000</td>\n",
       "      <td>0.000000</td>\n",
       "      <td>0.000000</td>\n",
       "      <td>0.000000</td>\n",
       "      <td>2.000000</td>\n",
       "    </tr>\n",
       "    <tr>\n",
       "      <th>50%</th>\n",
       "      <td>7560.50000</td>\n",
       "      <td>2752.000000</td>\n",
       "      <td>126.000000</td>\n",
       "      <td>15.000000</td>\n",
       "      <td>180.000000</td>\n",
       "      <td>32.000000</td>\n",
       "      <td>1316.000000</td>\n",
       "      <td>220.000000</td>\n",
       "      <td>223.000000</td>\n",
       "      <td>138.000000</td>\n",
       "      <td>...</td>\n",
       "      <td>0.000000</td>\n",
       "      <td>0.000000</td>\n",
       "      <td>0.000000</td>\n",
       "      <td>0.000000</td>\n",
       "      <td>0.000000</td>\n",
       "      <td>0.000000</td>\n",
       "      <td>0.000000</td>\n",
       "      <td>0.000000</td>\n",
       "      <td>0.000000</td>\n",
       "      <td>4.000000</td>\n",
       "    </tr>\n",
       "    <tr>\n",
       "      <th>75%</th>\n",
       "      <td>11340.25000</td>\n",
       "      <td>3104.000000</td>\n",
       "      <td>261.000000</td>\n",
       "      <td>22.000000</td>\n",
       "      <td>330.000000</td>\n",
       "      <td>79.000000</td>\n",
       "      <td>2270.000000</td>\n",
       "      <td>235.000000</td>\n",
       "      <td>235.000000</td>\n",
       "      <td>167.000000</td>\n",
       "      <td>...</td>\n",
       "      <td>0.000000</td>\n",
       "      <td>0.000000</td>\n",
       "      <td>0.000000</td>\n",
       "      <td>0.000000</td>\n",
       "      <td>0.000000</td>\n",
       "      <td>0.000000</td>\n",
       "      <td>0.000000</td>\n",
       "      <td>0.000000</td>\n",
       "      <td>0.000000</td>\n",
       "      <td>6.000000</td>\n",
       "    </tr>\n",
       "    <tr>\n",
       "      <th>max</th>\n",
       "      <td>15120.00000</td>\n",
       "      <td>3849.000000</td>\n",
       "      <td>360.000000</td>\n",
       "      <td>52.000000</td>\n",
       "      <td>1343.000000</td>\n",
       "      <td>554.000000</td>\n",
       "      <td>6890.000000</td>\n",
       "      <td>254.000000</td>\n",
       "      <td>254.000000</td>\n",
       "      <td>248.000000</td>\n",
       "      <td>...</td>\n",
       "      <td>1.000000</td>\n",
       "      <td>1.000000</td>\n",
       "      <td>1.000000</td>\n",
       "      <td>1.000000</td>\n",
       "      <td>1.000000</td>\n",
       "      <td>1.000000</td>\n",
       "      <td>1.000000</td>\n",
       "      <td>1.000000</td>\n",
       "      <td>1.000000</td>\n",
       "      <td>7.000000</td>\n",
       "    </tr>\n",
       "  </tbody>\n",
       "</table>\n",
       "<p>8 rows × 56 columns</p>\n",
       "</div>"
      ],
      "text/plain": [
       "                Id     Elevation        Aspect         Slope  \\\n",
       "count  15120.00000  15120.000000  15120.000000  15120.000000   \n",
       "mean    7560.50000   2749.322553    156.676653     16.501587   \n",
       "std     4364.91237    417.678187    110.085801      8.453927   \n",
       "min        1.00000   1863.000000      0.000000      0.000000   \n",
       "25%     3780.75000   2376.000000     65.000000     10.000000   \n",
       "50%     7560.50000   2752.000000    126.000000     15.000000   \n",
       "75%    11340.25000   3104.000000    261.000000     22.000000   \n",
       "max    15120.00000   3849.000000    360.000000     52.000000   \n",
       "\n",
       "       Horizontal_Distance_To_Hydrology  Vertical_Distance_To_Hydrology  \\\n",
       "count                      15120.000000                    15120.000000   \n",
       "mean                         227.195701                       51.076521   \n",
       "std                          210.075296                       61.239406   \n",
       "min                            0.000000                     -146.000000   \n",
       "25%                           67.000000                        5.000000   \n",
       "50%                          180.000000                       32.000000   \n",
       "75%                          330.000000                       79.000000   \n",
       "max                         1343.000000                      554.000000   \n",
       "\n",
       "       Horizontal_Distance_To_Roadways  Hillshade_9am  Hillshade_Noon  \\\n",
       "count                     15120.000000   15120.000000    15120.000000   \n",
       "mean                       1714.023214     212.704299      218.965608   \n",
       "std                        1325.066358      30.561287       22.801966   \n",
       "min                           0.000000       0.000000       99.000000   \n",
       "25%                         764.000000     196.000000      207.000000   \n",
       "50%                        1316.000000     220.000000      223.000000   \n",
       "75%                        2270.000000     235.000000      235.000000   \n",
       "max                        6890.000000     254.000000      254.000000   \n",
       "\n",
       "       Hillshade_3pm  ...   Soil_Type32   Soil_Type33   Soil_Type34  \\\n",
       "count   15120.000000  ...  15120.000000  15120.000000  15120.000000   \n",
       "mean      135.091997  ...      0.045635      0.040741      0.001455   \n",
       "std        45.895189  ...      0.208699      0.197696      0.038118   \n",
       "min         0.000000  ...      0.000000      0.000000      0.000000   \n",
       "25%       106.000000  ...      0.000000      0.000000      0.000000   \n",
       "50%       138.000000  ...      0.000000      0.000000      0.000000   \n",
       "75%       167.000000  ...      0.000000      0.000000      0.000000   \n",
       "max       248.000000  ...      1.000000      1.000000      1.000000   \n",
       "\n",
       "        Soil_Type35   Soil_Type36   Soil_Type37   Soil_Type38   Soil_Type39  \\\n",
       "count  15120.000000  15120.000000  15120.000000  15120.000000  15120.000000   \n",
       "mean       0.006746      0.000661      0.002249      0.048148      0.043452   \n",
       "std        0.081859      0.025710      0.047368      0.214086      0.203880   \n",
       "min        0.000000      0.000000      0.000000      0.000000      0.000000   \n",
       "25%        0.000000      0.000000      0.000000      0.000000      0.000000   \n",
       "50%        0.000000      0.000000      0.000000      0.000000      0.000000   \n",
       "75%        0.000000      0.000000      0.000000      0.000000      0.000000   \n",
       "max        1.000000      1.000000      1.000000      1.000000      1.000000   \n",
       "\n",
       "        Soil_Type40    Cover_Type  \n",
       "count  15120.000000  15120.000000  \n",
       "mean       0.030357      4.000000  \n",
       "std        0.171574      2.000066  \n",
       "min        0.000000      1.000000  \n",
       "25%        0.000000      2.000000  \n",
       "50%        0.000000      4.000000  \n",
       "75%        0.000000      6.000000  \n",
       "max        1.000000      7.000000  \n",
       "\n",
       "[8 rows x 56 columns]"
      ]
     },
     "execution_count": 4,
     "metadata": {},
     "output_type": "execute_result"
    }
   ],
   "source": [
    "df_forest.describe()"
   ]
  },
  {
   "cell_type": "markdown",
   "metadata": {},
   "source": [
    "## Removing Variables"
   ]
  },
  {
   "cell_type": "code",
   "execution_count": 84,
   "metadata": {},
   "outputs": [],
   "source": [
    "#Removing ID as it will not contribute to the model \n",
    "# removing soil type 7 and 15 as it has no values\n",
    "df_forest_rem = df_forest.drop(columns=['Id', 'Soil_Type7', 'Soil_Type15'])"
   ]
  },
  {
   "cell_type": "markdown",
   "metadata": {},
   "source": [
    "## Correlation"
   ]
  },
  {
   "cell_type": "code",
   "execution_count": 6,
   "metadata": {},
   "outputs": [
    {
     "data": {
      "image/png": "[encoded data removed]",
      "text/plain": [
       "<Figure size 864x648 with 2 Axes>"
      ]
     },
     "metadata": {},
     "output_type": "display_data"
    }
   ],
   "source": [
    "#Finding correlation between variables\n",
    "#df_forest.corr()\n",
    "\n",
    "plt.figure(figsize = (12, 9))\n",
    "s = sns.heatmap(df_forest_rem.corr(),\n",
    "                cmap = 'RdBu',\n",
    "                vmin = -1, \n",
    "                vmax = 1)\n",
    "plt.title('Correlation Heatmap')\n",
    "plt.show()"
   ]
  },
  {
   "cell_type": "markdown",
   "metadata": {},
   "source": [
    "## Splitting into independent (X) and dependent (y) variable"
   ]
  },
  {
   "cell_type": "code",
   "execution_count": 87,
   "metadata": {},
   "outputs": [],
   "source": [
    "X = df_forest_rem.drop(columns=['Cover_Type']).values\n",
    "y =  df_forest_rem['Cover_Type'].values"
   ]
  },
  {
   "cell_type": "markdown",
   "metadata": {},
   "source": [
    "## Train Test Split"
   ]
  },
  {
   "cell_type": "code",
   "execution_count": 6,
   "metadata": {},
   "outputs": [],
   "source": [
    "X_train,X_test,y_train,y_test=train_test_split(X,y,test_size=0.3,random_state=42)"
   ]
  },
  {
   "cell_type": "markdown",
   "metadata": {},
   "source": [
    "## Standardization"
   ]
  },
  {
   "cell_type": "code",
   "execution_count": 7,
   "metadata": {},
   "outputs": [],
   "source": [
    "# Standardisation = (x-mean)/sd\n",
    "scaler = StandardScaler()\n",
    "X_train = scaler.fit_transform(X_train)\n",
    "X_test = scaler.fit_transform(X_test)"
   ]
  },
  {
   "cell_type": "markdown",
   "metadata": {},
   "source": [
    "## ${\\textbf{Multiclass Logistic Regression}}$"
   ]
  },
  {
   "cell_type": "code",
   "execution_count": 12,
   "metadata": {},
   "outputs": [
    {
     "name": "stdout",
     "output_type": "stream",
     "text": [
      "Accuracy: 0.7087742504409171\n"
     ]
    },
    {
     "name": "stderr",
     "output_type": "stream",
     "text": [
      "C:\\Users\\ASUS\\Anaconda3\\lib\\site-packages\\sklearn\\linear_model\\_logistic.py:940: ConvergenceWarning: lbfgs failed to converge (status=1):\n",
      "STOP: TOTAL NO. of ITERATIONS REACHED LIMIT.\n",
      "\n",
      "Increase the number of iterations (max_iter) or scale the data as shown in:\n",
      "    https://scikit-learn.org/stable/modules/preprocessing.html\n",
      "Please also refer to the documentation for alternative solver options:\n",
      "    https://scikit-learn.org/stable/modules/linear_model.html#logistic-regression\n",
      "  extra_warning_msg=_LOGISTIC_SOLVER_CONVERGENCE_MSG)\n"
     ]
    }
   ],
   "source": [
    "from sklearn.linear_model import LogisticRegression\n",
    "\n",
    "classifier = LogisticRegression(random_state=42)\n",
    "classifier.fit(X_train,y_train)\n",
    "\n",
    "y_pred=classifier.predict(X_test)\n",
    "\n",
    "print(\"Accuracy:\",metrics.accuracy_score(y_test, y_pred))"
   ]
  },
  {
   "cell_type": "code",
   "execution_count": null,
   "metadata": {
    "collapsed": true
   },
   "outputs": [],
   "source": [
    "cm = metrics.confusion_matrix(y_test, y_pred)\n",
    "cm"
   ]
  },
  {
   "cell_type": "code",
   "execution_count": null,
   "metadata": {
    "collapsed": true
   },
   "outputs": [],
   "source": [
    "plt.figure(figsize = (12, 9))\n",
    "s = sns.heatmap(cnf_matrix,\n",
    "                cmap = 'RdBu')\n",
    "plt.title('Confusion Matrix')\n",
    "#plt.show()"
   ]
  },
  {
   "cell_type": "markdown",
   "metadata": {},
   "source": [
    "## ${\\textbf{Decision Tree}}$"
   ]
  },
  {
   "cell_type": "code",
   "execution_count": 58,
   "metadata": {},
   "outputs": [
    {
     "name": "stdout",
     "output_type": "stream",
     "text": [
      "Accuracy: 0.7680776014109347\n"
     ]
    }
   ],
   "source": [
    "from sklearn.tree import DecisionTreeClassifier\n",
    "\n",
    "classifier = DecisionTreeClassifier(random_state=42)\n",
    "classifier = classifier.fit(X_train,y_train)\n",
    "\n",
    "y_pred=classifier.predict(X_test)\n",
    "\n",
    "print(\"Accuracy:\",metrics.accuracy_score(y_test, y_pred))"
   ]
  },
  {
   "cell_type": "code",
   "execution_count": 56,
   "metadata": {
    "collapsed": true
   },
   "outputs": [],
   "source": [
    "cm = metrics.confusion_matrix(y_test, y_pred)\n",
    "#cm"
   ]
  },
  {
   "cell_type": "code",
   "execution_count": 62,
   "metadata": {
    "collapsed": true
   },
   "outputs": [],
   "source": [
    "import graphviz \n",
    "import pydotplus\n",
    "dot_data = tree.export_graphviz(classifier, out_file=None, feature_names=X.columns)\n",
    "#graph = graphviz.Source(dot_data) \n",
    "#graph.render(\"forest\")\n",
    "#graph.render(\"tree.pdf\",view = True)\n",
    "#graph = pydotplus.graph_from_dot_data(dot_data)\n",
    "#graph.write_png('tree.png')"
   ]
  },
  {
   "cell_type": "markdown",
   "metadata": {},
   "source": [
    "## Random Forest"
   ]
  },
  {
   "cell_type": "code",
   "execution_count": 13,
   "metadata": {},
   "outputs": [
    {
     "name": "stdout",
     "output_type": "stream",
     "text": [
      "Accuracy: 0.8544973544973545\n"
     ]
    }
   ],
   "source": [
    "#using standardised inputs\n",
    "from sklearn.ensemble import RandomForestClassifier\n",
    "\n",
    "classifier = RandomForestClassifier(n_estimators=50, random_state=42)\n",
    "classifier = classifier.fit(X_train,y_train)\n",
    "\n",
    "y_pred=classifier.predict(X_test)\n",
    "\n",
    "print(\"Accuracy:\",metrics.accuracy_score(y_test, y_pred))"
   ]
  },
  {
   "cell_type": "code",
   "execution_count": null,
   "metadata": {
    "collapsed": true
   },
   "outputs": [],
   "source": [
    "cm = metrics.confusion_matrix(y_test, y_pred)\n",
    "cm"
   ]
  },
  {
   "cell_type": "markdown",
   "metadata": {},
   "source": [
    "## SVM"
   ]
  },
  {
   "cell_type": "code",
   "execution_count": 74,
   "metadata": {},
   "outputs": [
    {
     "name": "stdout",
     "output_type": "stream",
     "text": [
      "Accuracy: 0.7317019400352733\n"
     ]
    }
   ],
   "source": [
    "from sklearn.svm import SVC\n",
    "\n",
    "classifier = SVC(kernel = 'rbf', random_state=42)\n",
    "classifier = classifier.fit(X_train,y_train)\n",
    "\n",
    "y_pred=classifier.predict(X_test)\n",
    "\n",
    "print(\"Accuracy:\",metrics.accuracy_score(y_test, y_pred))"
   ]
  },
  {
   "cell_type": "code",
   "execution_count": null,
   "metadata": {
    "collapsed": true
   },
   "outputs": [],
   "source": [
    "cm = metrics.confusion_matrix(y_test, y_pred)\n",
    "cm"
   ]
  },
  {
   "cell_type": "markdown",
   "metadata": {},
   "source": [
    "## Naive Bayes"
   ]
  },
  {
   "cell_type": "code",
   "execution_count": 84,
   "metadata": {},
   "outputs": [
    {
     "name": "stdout",
     "output_type": "stream",
     "text": [
      "Accuracy: 0.5903880070546738\n"
     ]
    }
   ],
   "source": [
    "#without scaled inputs\n",
    "from sklearn.naive_bayes import GaussianNB\n",
    "\n",
    "classifier = GaussianNB()\n",
    "classifier = classifier.fit(X_train,y_train)\n",
    "\n",
    "y_pred=classifier.predict(X_test)\n",
    "\n",
    "print(\"Accuracy:\",metrics.accuracy_score(y_test, y_pred))"
   ]
  },
  {
   "cell_type": "code",
   "execution_count": null,
   "metadata": {
    "collapsed": true
   },
   "outputs": [],
   "source": [
    "cm = metrics.confusion_matrix(y_test, y_pred)\n",
    "cm"
   ]
  },
  {
   "cell_type": "markdown",
   "metadata": {},
   "source": [
    "## K-NN"
   ]
  },
  {
   "cell_type": "code",
   "execution_count": 111,
   "metadata": {},
   "outputs": [
    {
     "name": "stdout",
     "output_type": "stream",
     "text": [
      "Accuracy: 0.7854938271604939\n"
     ]
    }
   ],
   "source": [
    "#without scaled inputs\n",
    "from sklearn.neighbors import KNeighborsClassifier\n",
    "\n",
    "classifier = KNeighborsClassifier(n_neighbors=3)\n",
    "classifier = classifier.fit(X_train,y_train)\n",
    "\n",
    "y_pred=classifier.predict(X_test)\n",
    "\n",
    "print(\"Accuracy:\",metrics.accuracy_score(y_test, y_pred))"
   ]
  },
  {
   "cell_type": "code",
   "execution_count": null,
   "metadata": {
    "collapsed": true
   },
   "outputs": [],
   "source": [
    "cm = metrics.confusion_matrix(y_test, y_pred)\n",
    "cm"
   ]
  },
  {
   "cell_type": "code",
   "execution_count": null,
   "metadata": {
    "collapsed": true
   },
   "outputs": [],
   "source": [
    "\"\"\" \n",
    "thoughts and notes::\n",
    "- check the correlation for variables other than soil type and wilderness type (top left corner of heatmap)\n",
    "- try by removing one of the soil_type variables and wilderness area (since last variable will be dependent on all variables)\n",
    "\"\"\"\n"
   ]
  },
  {
   "cell_type": "markdown",
   "metadata": {},
   "source": [
    "## Arificial Neural Networks"
   ]
  },
  {
   "cell_type": "code",
   "execution_count": null,
   "metadata": {
    "collapsed": true
   },
   "outputs": [],
   "source": [
    "#for ANN we need to apply feature scaling as it involves a lot of calculations"
   ]
  },
  {
   "cell_type": "code",
   "execution_count": 93,
   "metadata": {},
   "outputs": [],
   "source": [
    "import tensorflow as tf\n",
    "import keras\n",
    "from keras.models import Sequential\n",
    "from keras.layers import Dense\n",
    "\n",
    "from keras.utils import np_utils"
   ]
  },
  {
   "cell_type": "code",
   "execution_count": 123,
   "metadata": {},
   "outputs": [],
   "source": [
    "#dummy_y = np_utils.to_categorical(y)\n",
    "y = y.reshape(-1, 1)\n",
    "ohe = OneHotEncoder()\n",
    "y_encoded = ohe.fit_transform(y).toarray()\n",
    "\n",
    "X_train,X_test,y_train,y_test=train_test_split(X,y_encoded,test_size=0.3,random_state=42)"
   ]
  },
  {
   "cell_type": "code",
   "execution_count": 124,
   "metadata": {},
   "outputs": [],
   "source": [
    "#initializing the ANN\n",
    "classifier = Sequential()\n",
    "\n",
    "#adding input layer and first hidden layer\n",
    "#the dataset has 52 feature(columns, so the input layer has 52 nodes\n",
    "#output layer has 7 nodes\n",
    "#taking number of nodes in hidden layer as the average of the number of nodes in input and output, we get (52+7)/2 = 29.5\n",
    "\n",
    "#units is the no of outputs for the hidden layer which is basically the number of nodes = 29.5 ~30\n",
    "#input_dim is the number of inputs to the hidden layer which is 52 (no. of columns in our dataset)\n",
    "#we use relu activation function for the hidden layer\n",
    "\n",
    "classifier.add(Dense(units = 30, activation = 'relu', input_dim = 52))\n",
    "\n",
    "#adding second hidden layer\n",
    "#units is the no of outputs for the hidden layer which is basically the number of nodes = 29.5 ~30\n",
    "#input_dim - no need to specify because the output from first hidden layer is the input to the second hidden layer\n",
    "\n",
    "classifier.add(Dense(units = 30, activation = 'relu'))\n",
    "\n",
    "#adding output layer\n",
    "#units is the number of output = 7\n",
    "#activation function for binary is sigmoid but for more than 2 categorical layers its softmax\n",
    "classifier.add(Dense(units = 7, activation = 'softmax'))\n",
    "\n",
    "#compiling the ANN\n",
    "#loss will be binary_crossentropy if the output had only 2 categories\n",
    "classifier.compile(optimizer='adam', loss = 'categorical_crossentropy', metrics = ['accuracy'])"
   ]
  },
  {
   "cell_type": "code",
   "execution_count": 125,
   "metadata": {},
   "outputs": [
    {
     "name": "stdout",
     "output_type": "stream",
     "text": [
      "Epoch 1/64\n",
      "10584/10584 [==============================] - 0s 33us/step - loss: 84.9960 - accuracy: 0.1773\n",
      "Epoch 2/64\n",
      "10584/10584 [==============================] - 0s 21us/step - loss: 12.1265 - accuracy: 0.2293\n",
      "Epoch 3/64\n",
      "10584/10584 [==============================] - 0s 23us/step - loss: 5.7673 - accuracy: 0.2656\n",
      "Epoch 4/64\n",
      "10584/10584 [==============================] - 0s 22us/step - loss: 3.7246 - accuracy: 0.2989\n",
      "Epoch 5/64\n",
      "10584/10584 [==============================] - 0s 22us/step - loss: 2.7268 - accuracy: 0.3283\n",
      "Epoch 6/64\n",
      "10584/10584 [==============================] - 0s 19us/step - loss: 2.3847 - accuracy: 0.3582\n",
      "Epoch 7/64\n",
      "10584/10584 [==============================] - 0s 19us/step - loss: 2.1049 - accuracy: 0.3732\n",
      "Epoch 8/64\n",
      "10584/10584 [==============================] - 0s 21us/step - loss: 1.9226 - accuracy: 0.3990\n",
      "Epoch 9/64\n",
      "10584/10584 [==============================] - 0s 20us/step - loss: 1.8827 - accuracy: 0.4001\n",
      "Epoch 10/64\n",
      "10584/10584 [==============================] - 0s 25us/step - loss: 1.6636 - accuracy: 0.4285\n",
      "Epoch 11/64\n",
      "10584/10584 [==============================] - 0s 20us/step - loss: 1.5995 - accuracy: 0.4373\n",
      "Epoch 12/64\n",
      "10584/10584 [==============================] - 0s 20us/step - loss: 1.5687 - accuracy: 0.4430\n",
      "Epoch 13/64\n",
      "10584/10584 [==============================] - 0s 26us/step - loss: 1.6172 - accuracy: 0.4499\n",
      "Epoch 14/64\n",
      "10584/10584 [==============================] - 0s 21us/step - loss: 1.5645 - accuracy: 0.4596\n",
      "Epoch 15/64\n",
      "10584/10584 [==============================] - 0s 21us/step - loss: 1.4414 - accuracy: 0.4860\n",
      "Epoch 16/64\n",
      "10584/10584 [==============================] - 0s 22us/step - loss: 1.5120 - accuracy: 0.4762\n",
      "Epoch 17/64\n",
      "10584/10584 [==============================] - 0s 25us/step - loss: 1.3887 - accuracy: 0.4995\n",
      "Epoch 18/64\n",
      "10584/10584 [==============================] - 0s 19us/step - loss: 1.4278 - accuracy: 0.4974\n",
      "Epoch 19/64\n",
      "10584/10584 [==============================] - 0s 19us/step - loss: 1.3494 - accuracy: 0.5111\n",
      "Epoch 20/64\n",
      "10584/10584 [==============================] - 0s 22us/step - loss: 1.3475 - accuracy: 0.5163\n",
      "Epoch 21/64\n",
      "10584/10584 [==============================] - 0s 26us/step - loss: 1.2615 - accuracy: 0.5294\n",
      "Epoch 22/64\n",
      "10584/10584 [==============================] - 0s 30us/step - loss: 1.4156 - accuracy: 0.5077\n",
      "Epoch 23/64\n",
      "10584/10584 [==============================] - 0s 33us/step - loss: 1.2493 - accuracy: 0.5443\n",
      "Epoch 24/64\n",
      "10584/10584 [==============================] - 0s 22us/step - loss: 1.1544 - accuracy: 0.5696\n",
      "Epoch 25/64\n",
      "10584/10584 [==============================] - 0s 25us/step - loss: 1.2554 - accuracy: 0.5492\n",
      "Epoch 26/64\n",
      "10584/10584 [==============================] - 0s 25us/step - loss: 1.1472 - accuracy: 0.5685\n",
      "Epoch 27/64\n",
      "10584/10584 [==============================] - 0s 15us/step - loss: 1.2038 - accuracy: 0.5629\n",
      "Epoch 28/64\n",
      "10584/10584 [==============================] - 0s 17us/step - loss: 1.1516 - accuracy: 0.5715\n",
      "Epoch 29/64\n",
      "10584/10584 [==============================] - 0s 17us/step - loss: 1.0757 - accuracy: 0.5818\n",
      "Epoch 30/64\n",
      "10584/10584 [==============================] - 0s 17us/step - loss: 1.3654 - accuracy: 0.5380\n",
      "Epoch 31/64\n",
      "10584/10584 [==============================] - 0s 15us/step - loss: 1.1757 - accuracy: 0.5643\n",
      "Epoch 32/64\n",
      "10584/10584 [==============================] - 0s 15us/step - loss: 1.1835 - accuracy: 0.5642\n",
      "Epoch 33/64\n",
      "10584/10584 [==============================] - 0s 15us/step - loss: 1.0546 - accuracy: 0.5950\n",
      "Epoch 34/64\n",
      "10584/10584 [==============================] - 0s 16us/step - loss: 1.1224 - accuracy: 0.5757\n",
      "Epoch 35/64\n",
      "10584/10584 [==============================] - 0s 16us/step - loss: 1.1405 - accuracy: 0.5843\n",
      "Epoch 36/64\n",
      "10584/10584 [==============================] - 0s 15us/step - loss: 1.0814 - accuracy: 0.5849\n",
      "Epoch 37/64\n",
      "10584/10584 [==============================] - 0s 16us/step - loss: 1.1715 - accuracy: 0.5740\n",
      "Epoch 38/64\n",
      "10584/10584 [==============================] - 0s 16us/step - loss: 1.0295 - accuracy: 0.5989\n",
      "Epoch 39/64\n",
      "10584/10584 [==============================] - 0s 15us/step - loss: 1.0237 - accuracy: 0.6018\n",
      "Epoch 40/64\n",
      "10584/10584 [==============================] - 0s 15us/step - loss: 0.9794 - accuracy: 0.6129\n",
      "Epoch 41/64\n",
      "10584/10584 [==============================] - 0s 22us/step - loss: 1.0575 - accuracy: 0.5947\n",
      "Epoch 42/64\n",
      "10584/10584 [==============================] - 0s 20us/step - loss: 1.0109 - accuracy: 0.6110\n",
      "Epoch 43/64\n",
      "10584/10584 [==============================] - 0s 25us/step - loss: 1.1459 - accuracy: 0.5865\n",
      "Epoch 44/64\n",
      "10584/10584 [==============================] - 0s 16us/step - loss: 1.0546 - accuracy: 0.5969\n",
      "Epoch 45/64\n",
      "10584/10584 [==============================] - 0s 16us/step - loss: 1.0324 - accuracy: 0.6076\n",
      "Epoch 46/64\n",
      "10584/10584 [==============================] - 0s 16us/step - loss: 1.0408 - accuracy: 0.6008\n",
      "Epoch 47/64\n",
      "10584/10584 [==============================] - 0s 16us/step - loss: 0.9845 - accuracy: 0.6176\n",
      "Epoch 48/64\n",
      "10584/10584 [==============================] - 0s 15us/step - loss: 1.0584 - accuracy: 0.5965\n",
      "Epoch 49/64\n",
      "10584/10584 [==============================] - 0s 30us/step - loss: 1.0854 - accuracy: 0.5997\n",
      "Epoch 50/64\n",
      "10584/10584 [==============================] - 0s 17us/step - loss: 1.0096 - accuracy: 0.6114\n",
      "Epoch 51/64\n",
      "10584/10584 [==============================] - 0s 16us/step - loss: 1.0645 - accuracy: 0.6076\n",
      "Epoch 52/64\n",
      "10584/10584 [==============================] - 0s 16us/step - loss: 1.1205 - accuracy: 0.5919\n",
      "Epoch 53/64\n",
      "10584/10584 [==============================] - 0s 16us/step - loss: 0.9604 - accuracy: 0.6265\n",
      "Epoch 54/64\n",
      "10584/10584 [==============================] - 0s 14us/step - loss: 1.0751 - accuracy: 0.5968\n",
      "Epoch 55/64\n",
      "10584/10584 [==============================] - 0s 16us/step - loss: 0.9863 - accuracy: 0.6156\n",
      "Epoch 56/64\n",
      "10584/10584 [==============================] - 0s 27us/step - loss: 1.0096 - accuracy: 0.6132\n",
      "Epoch 57/64\n",
      "10584/10584 [==============================] - 0s 16us/step - loss: 0.9519 - accuracy: 0.6279\n",
      "Epoch 58/64\n",
      "10584/10584 [==============================] - 0s 16us/step - loss: 0.9624 - accuracy: 0.6240\n",
      "Epoch 59/64\n",
      "10584/10584 [==============================] - 0s 15us/step - loss: 1.0298 - accuracy: 0.6110\n",
      "Epoch 60/64\n",
      "10584/10584 [==============================] - 0s 15us/step - loss: 1.0037 - accuracy: 0.6138\n",
      "Epoch 61/64\n",
      "10584/10584 [==============================] - 0s 15us/step - loss: 1.0244 - accuracy: 0.6066\n",
      "Epoch 62/64\n",
      "10584/10584 [==============================] - 0s 16us/step - loss: 0.9524 - accuracy: 0.6290\n",
      "Epoch 63/64\n",
      "10584/10584 [==============================] - 0s 16us/step - loss: 0.9318 - accuracy: 0.6318\n",
      "Epoch 64/64\n",
      "10584/10584 [==============================] - 0s 15us/step - loss: 1.0975 - accuracy: 0.6002\n"
     ]
    },
    {
     "data": {
      "text/plain": [
       "<keras.callbacks.callbacks.History at 0x16f56e4a288>"
      ]
     },
     "execution_count": 125,
     "metadata": {},
     "output_type": "execute_result"
    }
   ],
   "source": [
    "# 1. one way is to train the model and test on the validation set after all epochs - \n",
    "\n",
    "#fit the ANN model to training set\n",
    "\n",
    "classifier.fit(X_train, y_train, batch_size=100 , epochs=64)"
   ]
  },
  {
   "cell_type": "code",
   "execution_count": 126,
   "metadata": {},
   "outputs": [
    {
     "name": "stdout",
     "output_type": "stream",
     "text": [
      "Accuracy: 0.6369047619047619\n"
     ]
    }
   ],
   "source": [
    "y_pred = classifier.predict(X_test)\n",
    "\n",
    "#Converting predictions to label\n",
    "pred = list()\n",
    "for i in range(len(y_pred)):\n",
    "    pred.append(np.argmax(y_pred[i]))\n",
    "#Converting one hot encoded test label to label\n",
    "test = list()\n",
    "for i in range(len(y_test)):\n",
    "    test.append(np.argmax(y_test[i]))\n",
    "    \n",
    "#pred now contains the predicted values. The code above was inverse of one hot encoding\n",
    "\n",
    "print(\"Accuracy:\",metrics.accuracy_score(test, pred))"
   ]
  },
  {
   "cell_type": "code",
   "execution_count": 129,
   "metadata": {},
   "outputs": [
    {
     "name": "stdout",
     "output_type": "stream",
     "text": [
      "Train on 10584 samples, validate on 4536 samples\n",
      "Epoch 1/100\n",
      "10584/10584 [==============================] - 0s 36us/step - loss: 0.7643 - accuracy: 0.6791 - val_loss: 0.7959 - val_accuracy: 0.6662\n",
      "Epoch 2/100\n",
      "10584/10584 [==============================] - 0s 35us/step - loss: 0.7521 - accuracy: 0.6828 - val_loss: 0.8222 - val_accuracy: 0.6678\n",
      "Epoch 3/100\n",
      "10584/10584 [==============================] - 0s 36us/step - loss: 0.7810 - accuracy: 0.6702 - val_loss: 0.7908 - val_accuracy: 0.6631\n",
      "Epoch 4/100\n",
      "10584/10584 [==============================] - 0s 35us/step - loss: 0.7793 - accuracy: 0.6699 - val_loss: 0.7874 - val_accuracy: 0.6660\n",
      "Epoch 5/100\n",
      "10584/10584 [==============================] - 0s 33us/step - loss: 0.7701 - accuracy: 0.6752 - val_loss: 0.7750 - val_accuracy: 0.6638\n",
      "Epoch 6/100\n",
      "10584/10584 [==============================] - 0s 36us/step - loss: 0.7616 - accuracy: 0.6830 - val_loss: 0.7952 - val_accuracy: 0.6598\n",
      "Epoch 7/100\n",
      "10584/10584 [==============================] - 0s 33us/step - loss: 0.7493 - accuracy: 0.6873 - val_loss: 0.9628 - val_accuracy: 0.6365\n",
      "Epoch 8/100\n",
      "10584/10584 [==============================] - 0s 36us/step - loss: 0.7638 - accuracy: 0.6803 - val_loss: 0.7212 - val_accuracy: 0.7121\n",
      "Epoch 9/100\n",
      "10584/10584 [==============================] - 0s 45us/step - loss: 0.7375 - accuracy: 0.6912 - val_loss: 0.7572 - val_accuracy: 0.6792\n",
      "Epoch 10/100\n",
      "10584/10584 [==============================] - 1s 57us/step - loss: 0.7580 - accuracy: 0.6791 - val_loss: 0.7639 - val_accuracy: 0.6841\n",
      "Epoch 11/100\n",
      "10584/10584 [==============================] - 0s 36us/step - loss: 0.7528 - accuracy: 0.6858 - val_loss: 0.7270 - val_accuracy: 0.6925\n",
      "Epoch 12/100\n",
      "10584/10584 [==============================] - 0s 33us/step - loss: 0.7463 - accuracy: 0.6832 - val_loss: 0.7467 - val_accuracy: 0.6856\n",
      "Epoch 13/100\n",
      "10584/10584 [==============================] - 0s 32us/step - loss: 0.7329 - accuracy: 0.6939 - val_loss: 0.7509 - val_accuracy: 0.6942\n",
      "Epoch 14/100\n",
      "10584/10584 [==============================] - 0s 31us/step - loss: 0.7408 - accuracy: 0.6874 - val_loss: 0.7286 - val_accuracy: 0.7015\n",
      "Epoch 15/100\n",
      "10584/10584 [==============================] - 0s 42us/step - loss: 0.7481 - accuracy: 0.6844 - val_loss: 0.7995 - val_accuracy: 0.6869\n",
      "Epoch 16/100\n",
      "10584/10584 [==============================] - 0s 35us/step - loss: 0.7585 - accuracy: 0.6790 - val_loss: 0.7812 - val_accuracy: 0.6616\n",
      "Epoch 17/100\n",
      "10584/10584 [==============================] - 0s 29us/step - loss: 0.7398 - accuracy: 0.6881 - val_loss: 0.8235 - val_accuracy: 0.6453\n",
      "Epoch 18/100\n",
      "10584/10584 [==============================] - 0s 42us/step - loss: 0.7372 - accuracy: 0.6864 - val_loss: 0.7561 - val_accuracy: 0.6733\n",
      "Epoch 19/100\n",
      "10584/10584 [==============================] - 0s 33us/step - loss: 0.7491 - accuracy: 0.6878 - val_loss: 0.7726 - val_accuracy: 0.6997\n",
      "Epoch 20/100\n",
      "10584/10584 [==============================] - 0s 30us/step - loss: 0.7434 - accuracy: 0.6880 - val_loss: 0.7113 - val_accuracy: 0.7070\n",
      "Epoch 21/100\n",
      "10584/10584 [==============================] - 0s 35us/step - loss: 0.7320 - accuracy: 0.6884 - val_loss: 0.7372 - val_accuracy: 0.6883\n",
      "Epoch 22/100\n",
      "10584/10584 [==============================] - 0s 31us/step - loss: 0.7297 - accuracy: 0.6942 - val_loss: 0.7475 - val_accuracy: 0.6852\n",
      "Epoch 23/100\n",
      "10584/10584 [==============================] - 0s 31us/step - loss: 0.7294 - accuracy: 0.6965 - val_loss: 0.7138 - val_accuracy: 0.7116\n",
      "Epoch 24/100\n",
      "10584/10584 [==============================] - 0s 30us/step - loss: 0.7308 - accuracy: 0.6917 - val_loss: 0.8178 - val_accuracy: 0.6742\n",
      "Epoch 25/100\n",
      "10584/10584 [==============================] - 0s 42us/step - loss: 0.7383 - accuracy: 0.6858 - val_loss: 0.7502 - val_accuracy: 0.6843\n",
      "Epoch 26/100\n",
      "10584/10584 [==============================] - 0s 32us/step - loss: 0.7292 - accuracy: 0.6919 - val_loss: 0.7810 - val_accuracy: 0.6737\n",
      "Epoch 27/100\n",
      "10584/10584 [==============================] - 0s 38us/step - loss: 0.7325 - accuracy: 0.6887 - val_loss: 0.7120 - val_accuracy: 0.7055\n",
      "Epoch 28/100\n",
      "10584/10584 [==============================] - 0s 28us/step - loss: 0.7169 - accuracy: 0.6956 - val_loss: 0.8165 - val_accuracy: 0.6329\n",
      "Epoch 29/100\n",
      "10584/10584 [==============================] - 0s 34us/step - loss: 0.7443 - accuracy: 0.6841 - val_loss: 0.7908 - val_accuracy: 0.6585\n",
      "Epoch 30/100\n",
      "10584/10584 [==============================] - 0s 42us/step - loss: 0.7543 - accuracy: 0.6875 - val_loss: 0.7269 - val_accuracy: 0.6989\n",
      "Epoch 31/100\n",
      "10584/10584 [==============================] - 0s 30us/step - loss: 0.7450 - accuracy: 0.6884 - val_loss: 0.7618 - val_accuracy: 0.6764\n",
      "Epoch 32/100\n",
      "10584/10584 [==============================] - 0s 41us/step - loss: 0.7313 - accuracy: 0.6905 - val_loss: 0.7353 - val_accuracy: 0.6905\n",
      "Epoch 33/100\n",
      "10584/10584 [==============================] - 0s 36us/step - loss: 0.7373 - accuracy: 0.6871 - val_loss: 0.7064 - val_accuracy: 0.7134\n",
      "Epoch 34/100\n",
      "10584/10584 [==============================] - 0s 32us/step - loss: 0.7332 - accuracy: 0.6932 - val_loss: 0.7697 - val_accuracy: 0.6733\n",
      "Epoch 35/100\n",
      "10584/10584 [==============================] - 1s 60us/step - loss: 0.7212 - accuracy: 0.6959 - val_loss: 0.7555 - val_accuracy: 0.6651\n",
      "Epoch 36/100\n",
      "10584/10584 [==============================] - 0s 39us/step - loss: 0.7336 - accuracy: 0.6913 - val_loss: 0.7652 - val_accuracy: 0.6777\n",
      "Epoch 37/100\n",
      "10584/10584 [==============================] - 0s 39us/step - loss: 0.7144 - accuracy: 0.7001 - val_loss: 0.7478 - val_accuracy: 0.7138\n",
      "Epoch 38/100\n",
      "10584/10584 [==============================] - 0s 38us/step - loss: 0.7095 - accuracy: 0.7044 - val_loss: 0.7818 - val_accuracy: 0.6960\n",
      "Epoch 39/100\n",
      "10584/10584 [==============================] - 1s 53us/step - loss: 0.7211 - accuracy: 0.6972 - val_loss: 0.9185 - val_accuracy: 0.6182\n",
      "Epoch 40/100\n",
      "10584/10584 [==============================] - 0s 39us/step - loss: 0.7369 - accuracy: 0.6926 - val_loss: 0.7655 - val_accuracy: 0.6702\n",
      "Epoch 41/100\n",
      "10584/10584 [==============================] - 0s 39us/step - loss: 0.7053 - accuracy: 0.7010 - val_loss: 0.7081 - val_accuracy: 0.7152\n",
      "Epoch 42/100\n",
      "10584/10584 [==============================] - 0s 40us/step - loss: 0.7231 - accuracy: 0.6952 - val_loss: 0.7516 - val_accuracy: 0.6903\n",
      "Epoch 43/100\n",
      "10584/10584 [==============================] - 0s 39us/step - loss: 0.7242 - accuracy: 0.6961 - val_loss: 0.7846 - val_accuracy: 0.6814\n",
      "Epoch 44/100\n",
      "10584/10584 [==============================] - 0s 40us/step - loss: 0.7192 - accuracy: 0.6991 - val_loss: 0.7463 - val_accuracy: 0.6852\n",
      "Epoch 45/100\n",
      "10584/10584 [==============================] - 0s 43us/step - loss: 0.7226 - accuracy: 0.6970 - val_loss: 0.7904 - val_accuracy: 0.6693\n",
      "Epoch 46/100\n",
      "10584/10584 [==============================] - 1s 51us/step - loss: 0.7013 - accuracy: 0.7047 - val_loss: 0.7271 - val_accuracy: 0.7037\n",
      "Epoch 47/100\n",
      "10584/10584 [==============================] - 0s 38us/step - loss: 0.7085 - accuracy: 0.6993 - val_loss: 0.7565 - val_accuracy: 0.6911\n",
      "Epoch 48/100\n",
      "10584/10584 [==============================] - 0s 38us/step - loss: 0.7189 - accuracy: 0.6960 - val_loss: 0.7894 - val_accuracy: 0.6927\n",
      "Epoch 49/100\n",
      "10584/10584 [==============================] - 0s 35us/step - loss: 0.7143 - accuracy: 0.7030 - val_loss: 0.7282 - val_accuracy: 0.7002\n",
      "Epoch 50/100\n",
      "10584/10584 [==============================] - 0s 40us/step - loss: 0.7001 - accuracy: 0.7049 - val_loss: 0.7213 - val_accuracy: 0.6925\n",
      "Epoch 51/100\n",
      "10584/10584 [==============================] - 0s 38us/step - loss: 0.7266 - accuracy: 0.6949 - val_loss: 0.8047 - val_accuracy: 0.6792\n",
      "Epoch 52/100\n",
      "10584/10584 [==============================] - 0s 38us/step - loss: 0.7224 - accuracy: 0.6963 - val_loss: 0.7377 - val_accuracy: 0.6792\n",
      "Epoch 53/100\n",
      "10584/10584 [==============================] - 0s 45us/step - loss: 0.7168 - accuracy: 0.6988 - val_loss: 0.6935 - val_accuracy: 0.7075\n",
      "Epoch 54/100\n",
      "10584/10584 [==============================] - 0s 38us/step - loss: 0.7105 - accuracy: 0.6968 - val_loss: 0.7367 - val_accuracy: 0.6993\n",
      "Epoch 55/100\n",
      "10584/10584 [==============================] - 0s 39us/step - loss: 0.7125 - accuracy: 0.7013 - val_loss: 0.7073 - val_accuracy: 0.7101\n"
     ]
    },
    {
     "name": "stdout",
     "output_type": "stream",
     "text": [
      "Epoch 56/100\n",
      "10584/10584 [==============================] - 0s 36us/step - loss: 0.7129 - accuracy: 0.6972 - val_loss: 0.7389 - val_accuracy: 0.6808\n",
      "Epoch 57/100\n",
      "10584/10584 [==============================] - 0s 34us/step - loss: 0.7128 - accuracy: 0.6951 - val_loss: 0.8086 - val_accuracy: 0.6914\n",
      "Epoch 58/100\n",
      "10584/10584 [==============================] - 0s 33us/step - loss: 0.7114 - accuracy: 0.7028 - val_loss: 0.7346 - val_accuracy: 0.6825\n",
      "Epoch 59/100\n",
      "10584/10584 [==============================] - 0s 33us/step - loss: 0.7037 - accuracy: 0.6978 - val_loss: 0.6969 - val_accuracy: 0.7079\n",
      "Epoch 60/100\n",
      "10584/10584 [==============================] - 0s 34us/step - loss: 0.6985 - accuracy: 0.7027 - val_loss: 0.7246 - val_accuracy: 0.7141\n",
      "Epoch 61/100\n",
      "10584/10584 [==============================] - 0s 34us/step - loss: 0.7049 - accuracy: 0.6989 - val_loss: 0.9543 - val_accuracy: 0.5979\n",
      "Epoch 62/100\n",
      "10584/10584 [==============================] - 0s 33us/step - loss: 0.7003 - accuracy: 0.7030 - val_loss: 0.7071 - val_accuracy: 0.7013\n",
      "Epoch 63/100\n",
      "10584/10584 [==============================] - 0s 33us/step - loss: 0.7065 - accuracy: 0.7032 - val_loss: 0.7227 - val_accuracy: 0.6951\n",
      "Epoch 64/100\n",
      "10584/10584 [==============================] - 0s 34us/step - loss: 0.6949 - accuracy: 0.7049 - val_loss: 0.6936 - val_accuracy: 0.7046\n",
      "Epoch 65/100\n",
      "10584/10584 [==============================] - 0s 34us/step - loss: 0.7125 - accuracy: 0.6978 - val_loss: 0.7466 - val_accuracy: 0.7061\n",
      "Epoch 66/100\n",
      "10584/10584 [==============================] - 0s 34us/step - loss: 0.6983 - accuracy: 0.6989 - val_loss: 0.7121 - val_accuracy: 0.7116\n",
      "Epoch 67/100\n",
      "10584/10584 [==============================] - 0s 33us/step - loss: 0.6814 - accuracy: 0.7141 - val_loss: 0.6836 - val_accuracy: 0.7176\n",
      "Epoch 68/100\n",
      "10584/10584 [==============================] - 0s 34us/step - loss: 0.6873 - accuracy: 0.7079 - val_loss: 0.7809 - val_accuracy: 0.7035\n",
      "Epoch 69/100\n",
      "10584/10584 [==============================] - 0s 33us/step - loss: 0.6960 - accuracy: 0.7069 - val_loss: 0.6842 - val_accuracy: 0.7075\n",
      "Epoch 70/100\n",
      "10584/10584 [==============================] - 0s 35us/step - loss: 0.7076 - accuracy: 0.7025 - val_loss: 0.6933 - val_accuracy: 0.7251\n",
      "Epoch 71/100\n",
      "10584/10584 [==============================] - 0s 34us/step - loss: 0.6949 - accuracy: 0.7073 - val_loss: 0.7343 - val_accuracy: 0.7044\n",
      "Epoch 72/100\n",
      "10584/10584 [==============================] - 0s 37us/step - loss: 0.6964 - accuracy: 0.7077 - val_loss: 0.7070 - val_accuracy: 0.7033\n",
      "Epoch 73/100\n",
      "10584/10584 [==============================] - 0s 45us/step - loss: 0.6871 - accuracy: 0.7105 - val_loss: 0.7202 - val_accuracy: 0.6975\n",
      "Epoch 74/100\n",
      "10584/10584 [==============================] - 0s 39us/step - loss: 0.6788 - accuracy: 0.7108 - val_loss: 0.6777 - val_accuracy: 0.7266\n",
      "Epoch 75/100\n",
      "10584/10584 [==============================] - 0s 35us/step - loss: 0.6817 - accuracy: 0.7094 - val_loss: 0.7209 - val_accuracy: 0.7006\n",
      "Epoch 76/100\n",
      "10584/10584 [==============================] - 0s 33us/step - loss: 0.6780 - accuracy: 0.7138 - val_loss: 0.7000 - val_accuracy: 0.7048\n",
      "Epoch 77/100\n",
      "10584/10584 [==============================] - 0s 35us/step - loss: 0.6982 - accuracy: 0.7025 - val_loss: 0.7016 - val_accuracy: 0.7081\n",
      "Epoch 78/100\n",
      "10584/10584 [==============================] - 0s 33us/step - loss: 0.6928 - accuracy: 0.7082 - val_loss: 0.7193 - val_accuracy: 0.6903\n",
      "Epoch 79/100\n",
      "10584/10584 [==============================] - 0s 44us/step - loss: 0.6974 - accuracy: 0.7052 - val_loss: 0.7122 - val_accuracy: 0.7233\n",
      "Epoch 80/100\n",
      "10584/10584 [==============================] - 0s 36us/step - loss: 0.6929 - accuracy: 0.7102 - val_loss: 0.6705 - val_accuracy: 0.7244\n",
      "Epoch 81/100\n",
      "10584/10584 [==============================] - 0s 33us/step - loss: 0.6869 - accuracy: 0.7141 - val_loss: 0.7368 - val_accuracy: 0.7158\n",
      "Epoch 82/100\n",
      "10584/10584 [==============================] - 0s 36us/step - loss: 0.6937 - accuracy: 0.7030 - val_loss: 0.6843 - val_accuracy: 0.7172\n",
      "Epoch 83/100\n",
      "10584/10584 [==============================] - 0s 33us/step - loss: 0.6786 - accuracy: 0.7150 - val_loss: 0.7334 - val_accuracy: 0.7094\n",
      "Epoch 84/100\n",
      "10584/10584 [==============================] - 0s 36us/step - loss: 0.6918 - accuracy: 0.7085 - val_loss: 0.7089 - val_accuracy: 0.7269\n",
      "Epoch 85/100\n",
      "10584/10584 [==============================] - 1s 51us/step - loss: 0.6851 - accuracy: 0.7142 - val_loss: 0.7428 - val_accuracy: 0.6986\n",
      "Epoch 86/100\n",
      "10584/10584 [==============================] - 0s 47us/step - loss: 0.6747 - accuracy: 0.7128 - val_loss: 0.8395 - val_accuracy: 0.6759\n",
      "Epoch 87/100\n",
      "10584/10584 [==============================] - 0s 45us/step - loss: 0.6778 - accuracy: 0.7137 - val_loss: 0.7197 - val_accuracy: 0.7017\n",
      "Epoch 88/100\n",
      "10584/10584 [==============================] - 0s 46us/step - loss: 0.6741 - accuracy: 0.7132 - val_loss: 0.6753 - val_accuracy: 0.7191\n",
      "Epoch 89/100\n",
      "10584/10584 [==============================] - 0s 47us/step - loss: 0.6889 - accuracy: 0.7110 - val_loss: 0.7670 - val_accuracy: 0.6720\n",
      "Epoch 90/100\n",
      "10584/10584 [==============================] - 1s 53us/step - loss: 0.6919 - accuracy: 0.7012 - val_loss: 0.7215 - val_accuracy: 0.7033\n",
      "Epoch 91/100\n",
      "10584/10584 [==============================] - 1s 53us/step - loss: 0.6971 - accuracy: 0.7074 - val_loss: 0.7287 - val_accuracy: 0.7030\n",
      "Epoch 92/100\n",
      "10584/10584 [==============================] - 0s 45us/step - loss: 0.6842 - accuracy: 0.7148 - val_loss: 0.6721 - val_accuracy: 0.7233\n",
      "Epoch 93/100\n",
      "10584/10584 [==============================] - 0s 42us/step - loss: 0.6872 - accuracy: 0.7091 - val_loss: 0.6795 - val_accuracy: 0.7180\n",
      "Epoch 94/100\n",
      "10584/10584 [==============================] - 1s 52us/step - loss: 0.6790 - accuracy: 0.7135 - val_loss: 0.6685 - val_accuracy: 0.7288\n",
      "Epoch 95/100\n",
      "10584/10584 [==============================] - 1s 57us/step - loss: 0.6853 - accuracy: 0.7112 - val_loss: 0.7782 - val_accuracy: 0.6953\n",
      "Epoch 96/100\n",
      "10584/10584 [==============================] - 0s 44us/step - loss: 0.6700 - accuracy: 0.7191 - val_loss: 0.6770 - val_accuracy: 0.7183\n",
      "Epoch 97/100\n",
      "10584/10584 [==============================] - 0s 43us/step - loss: 0.6842 - accuracy: 0.7143 - val_loss: 0.7029 - val_accuracy: 0.7167\n",
      "Epoch 98/100\n",
      "10584/10584 [==============================] - 0s 44us/step - loss: 0.6823 - accuracy: 0.7132 - val_loss: 0.6667 - val_accuracy: 0.7260\n",
      "Epoch 99/100\n",
      "10584/10584 [==============================] - 1s 48us/step - loss: 0.6935 - accuracy: 0.7116 - val_loss: 0.7180 - val_accuracy: 0.6914\n",
      "Epoch 100/100\n",
      "10584/10584 [==============================] - 1s 66us/step - loss: 0.6736 - accuracy: 0.7143 - val_loss: 0.6801 - val_accuracy: 0.7183\n"
     ]
    }
   ],
   "source": [
    "# 2. another way is to test validation score after every epoch\n",
    "\n",
    "history = classifier.fit(X_train, y_train,validation_data = (X_test,y_test), epochs=100, batch_size=64)"
   ]
  },
  {
   "cell_type": "code",
   "execution_count": 134,
   "metadata": {},
   "outputs": [
    {
     "data": {
      "image/png": "[encoded data removed]",
      "text/plain": [
       "<Figure size 432x288 with 1 Axes>"
      ]
     },
     "metadata": {},
     "output_type": "display_data"
    }
   ],
   "source": [
    "plt.plot(history.history['accuracy'])\n",
    "plt.plot(history.history['val_accuracy'])\n",
    "plt.title('Model accuracy')\n",
    "plt.ylabel('Accuracy')\n",
    "plt.xlabel('Epoch')\n",
    "plt.legend(['Train', 'Test'], loc='upper left')\n",
    "plt.show()"
   ]
  },
  {
   "cell_type": "code",
   "execution_count": 136,
   "metadata": {},
   "outputs": [
    {
     "data": {
      "image/png": "[encoded data removed]",
      "text/plain": [
       "<Figure size 432x288 with 1 Axes>"
      ]
     },
     "metadata": {},
     "output_type": "display_data"
    }
   ],
   "source": [
    "plt.plot(history.history['loss']) \n",
    "plt.plot(history.history['val_loss']) \n",
    "plt.title('Model loss') \n",
    "plt.ylabel('Loss') \n",
    "plt.xlabel('Epoch') \n",
    "plt.legend(['Train', 'Test'], loc='upper left') \n",
    "plt.show()"
   ]
  }
 ],
 "metadata": {
  "kernelspec": {
   "display_name": "Python 3",
   "language": "python",
   "name": "python3"
  },
  "language_info": {
   "codemirror_mode": {
    "name": "ipython",
    "version": 3
   },
   "file_extension": ".py",
   "mimetype": "text/x-python",
   "name": "python",
   "nbconvert_exporter": "python",
   "pygments_lexer": "ipython3",
   "version": "3.7.6"
  }
 },
 "nbformat": 4,
 "nbformat_minor": 2
}
